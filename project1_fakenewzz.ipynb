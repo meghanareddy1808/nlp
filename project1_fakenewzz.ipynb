{
  "nbformat": 4,
  "nbformat_minor": 0,
  "metadata": {
    "colab": {
      "provenance": [],
      "authorship_tag": "ABX9TyPNBYTbSSnjvqjZcSmwuQ4s"
    },
    "kernelspec": {
      "name": "python3",
      "display_name": "Python 3"
    },
    "language_info": {
      "name": "python"
    }
  },
  "cells": [
    {
      "cell_type": "code",
      "execution_count": 114,
      "metadata": {
        "id": "RjCsLoeLzSwa"
      },
      "outputs": [],
      "source": [
        "import numpy as np\n",
        "import pandas as pd\n",
        "import nltk\n",
        "from nltk.corpus import stopwords\n",
        "from nltk.stem.porter import PorterStemmer\n",
        "from sklearn.feature_extraction.text import TfidfVectorizer\n",
        "from sklearn.model_selection import train_test_split\n",
        "from sklearn.linear_model import LogisticRegression\n",
        "from sklearn.metrics import accuracy_score"
      ]
    },
    {
      "cell_type": "code",
      "source": [
        "ps=PorterStemmer()\n",
        "nltk.download('stopwords')\n",
        "nltk.download('punkt')"
      ],
      "metadata": {
        "colab": {
          "base_uri": "https://localhost:8080/"
        },
        "id": "6owAhmhi7Hv9",
        "outputId": "898607d3-5b62-49d7-e739-f3e8fc46e58b"
      },
      "execution_count": 115,
      "outputs": [
        {
          "output_type": "stream",
          "name": "stderr",
          "text": [
            "[nltk_data] Downloading package stopwords to /root/nltk_data...\n",
            "[nltk_data]   Package stopwords is already up-to-date!\n",
            "[nltk_data] Downloading package punkt to /root/nltk_data...\n",
            "[nltk_data]   Package punkt is already up-to-date!\n"
          ]
        },
        {
          "output_type": "execute_result",
          "data": {
            "text/plain": [
              "True"
            ]
          },
          "metadata": {},
          "execution_count": 115
        }
      ]
    },
    {
      "cell_type": "code",
      "source": [
        "data=pd.read_csv('/content/train.csv')"
      ],
      "metadata": {
        "id": "0mmVTociDuCS"
      },
      "execution_count": 116,
      "outputs": []
    },
    {
      "cell_type": "code",
      "source": [
        "data.head()"
      ],
      "metadata": {
        "colab": {
          "base_uri": "https://localhost:8080/",
          "height": 206
        },
        "id": "S3HSK8fz5LF7",
        "outputId": "7ebe53b2-837a-4c50-a43e-b1c582dbd83f"
      },
      "execution_count": 117,
      "outputs": [
        {
          "output_type": "execute_result",
          "data": {
            "text/plain": [
              "                                           Statement  Label\n",
              "0  Says the Annies List political group supports ...  False\n",
              "1  When did the decline of coal start? It started...   True\n",
              "2  Hillary Clinton agrees with John McCain \"by vo...   True\n",
              "3  Health care reform legislation is likely to ma...  False\n",
              "4  The economic turnaround started at the end of ...   True"
            ],
            "text/html": [
              "\n",
              "  <div id=\"df-98b86f30-2db7-4635-a0a3-d3c882ae2315\">\n",
              "    <div class=\"colab-df-container\">\n",
              "      <div>\n",
              "<style scoped>\n",
              "    .dataframe tbody tr th:only-of-type {\n",
              "        vertical-align: middle;\n",
              "    }\n",
              "\n",
              "    .dataframe tbody tr th {\n",
              "        vertical-align: top;\n",
              "    }\n",
              "\n",
              "    .dataframe thead th {\n",
              "        text-align: right;\n",
              "    }\n",
              "</style>\n",
              "<table border=\"1\" class=\"dataframe\">\n",
              "  <thead>\n",
              "    <tr style=\"text-align: right;\">\n",
              "      <th></th>\n",
              "      <th>Statement</th>\n",
              "      <th>Label</th>\n",
              "    </tr>\n",
              "  </thead>\n",
              "  <tbody>\n",
              "    <tr>\n",
              "      <th>0</th>\n",
              "      <td>Says the Annies List political group supports ...</td>\n",
              "      <td>False</td>\n",
              "    </tr>\n",
              "    <tr>\n",
              "      <th>1</th>\n",
              "      <td>When did the decline of coal start? It started...</td>\n",
              "      <td>True</td>\n",
              "    </tr>\n",
              "    <tr>\n",
              "      <th>2</th>\n",
              "      <td>Hillary Clinton agrees with John McCain \"by vo...</td>\n",
              "      <td>True</td>\n",
              "    </tr>\n",
              "    <tr>\n",
              "      <th>3</th>\n",
              "      <td>Health care reform legislation is likely to ma...</td>\n",
              "      <td>False</td>\n",
              "    </tr>\n",
              "    <tr>\n",
              "      <th>4</th>\n",
              "      <td>The economic turnaround started at the end of ...</td>\n",
              "      <td>True</td>\n",
              "    </tr>\n",
              "  </tbody>\n",
              "</table>\n",
              "</div>\n",
              "      <button class=\"colab-df-convert\" onclick=\"convertToInteractive('df-98b86f30-2db7-4635-a0a3-d3c882ae2315')\"\n",
              "              title=\"Convert this dataframe to an interactive table.\"\n",
              "              style=\"display:none;\">\n",
              "        \n",
              "  <svg xmlns=\"http://www.w3.org/2000/svg\" height=\"24px\"viewBox=\"0 0 24 24\"\n",
              "       width=\"24px\">\n",
              "    <path d=\"M0 0h24v24H0V0z\" fill=\"none\"/>\n",
              "    <path d=\"M18.56 5.44l.94 2.06.94-2.06 2.06-.94-2.06-.94-.94-2.06-.94 2.06-2.06.94zm-11 1L8.5 8.5l.94-2.06 2.06-.94-2.06-.94L8.5 2.5l-.94 2.06-2.06.94zm10 10l.94 2.06.94-2.06 2.06-.94-2.06-.94-.94-2.06-.94 2.06-2.06.94z\"/><path d=\"M17.41 7.96l-1.37-1.37c-.4-.4-.92-.59-1.43-.59-.52 0-1.04.2-1.43.59L10.3 9.45l-7.72 7.72c-.78.78-.78 2.05 0 2.83L4 21.41c.39.39.9.59 1.41.59.51 0 1.02-.2 1.41-.59l7.78-7.78 2.81-2.81c.8-.78.8-2.07 0-2.86zM5.41 20L4 18.59l7.72-7.72 1.47 1.35L5.41 20z\"/>\n",
              "  </svg>\n",
              "      </button>\n",
              "      \n",
              "  <style>\n",
              "    .colab-df-container {\n",
              "      display:flex;\n",
              "      flex-wrap:wrap;\n",
              "      gap: 12px;\n",
              "    }\n",
              "\n",
              "    .colab-df-convert {\n",
              "      background-color: #E8F0FE;\n",
              "      border: none;\n",
              "      border-radius: 50%;\n",
              "      cursor: pointer;\n",
              "      display: none;\n",
              "      fill: #1967D2;\n",
              "      height: 32px;\n",
              "      padding: 0 0 0 0;\n",
              "      width: 32px;\n",
              "    }\n",
              "\n",
              "    .colab-df-convert:hover {\n",
              "      background-color: #E2EBFA;\n",
              "      box-shadow: 0px 1px 2px rgba(60, 64, 67, 0.3), 0px 1px 3px 1px rgba(60, 64, 67, 0.15);\n",
              "      fill: #174EA6;\n",
              "    }\n",
              "\n",
              "    [theme=dark] .colab-df-convert {\n",
              "      background-color: #3B4455;\n",
              "      fill: #D2E3FC;\n",
              "    }\n",
              "\n",
              "    [theme=dark] .colab-df-convert:hover {\n",
              "      background-color: #434B5C;\n",
              "      box-shadow: 0px 1px 3px 1px rgba(0, 0, 0, 0.15);\n",
              "      filter: drop-shadow(0px 1px 2px rgba(0, 0, 0, 0.3));\n",
              "      fill: #FFFFFF;\n",
              "    }\n",
              "  </style>\n",
              "\n",
              "      <script>\n",
              "        const buttonEl =\n",
              "          document.querySelector('#df-98b86f30-2db7-4635-a0a3-d3c882ae2315 button.colab-df-convert');\n",
              "        buttonEl.style.display =\n",
              "          google.colab.kernel.accessAllowed ? 'block' : 'none';\n",
              "\n",
              "        async function convertToInteractive(key) {\n",
              "          const element = document.querySelector('#df-98b86f30-2db7-4635-a0a3-d3c882ae2315');\n",
              "          const dataTable =\n",
              "            await google.colab.kernel.invokeFunction('convertToInteractive',\n",
              "                                                     [key], {});\n",
              "          if (!dataTable) return;\n",
              "\n",
              "          const docLinkHtml = 'Like what you see? Visit the ' +\n",
              "            '<a target=\"_blank\" href=https://colab.research.google.com/notebooks/data_table.ipynb>data table notebook</a>'\n",
              "            + ' to learn more about interactive tables.';\n",
              "          element.innerHTML = '';\n",
              "          dataTable['output_type'] = 'display_data';\n",
              "          await google.colab.output.renderOutput(dataTable, element);\n",
              "          const docLink = document.createElement('div');\n",
              "          docLink.innerHTML = docLinkHtml;\n",
              "          element.appendChild(docLink);\n",
              "        }\n",
              "      </script>\n",
              "    </div>\n",
              "  </div>\n",
              "  "
            ]
          },
          "metadata": {},
          "execution_count": 117
        }
      ]
    },
    {
      "cell_type": "code",
      "source": [
        "data.isnull().sum()"
      ],
      "metadata": {
        "colab": {
          "base_uri": "https://localhost:8080/"
        },
        "id": "Jzy8QRCx5YUU",
        "outputId": "93590cd0-45e9-41f4-c1df-22ef3eba0f9c"
      },
      "execution_count": 118,
      "outputs": [
        {
          "output_type": "execute_result",
          "data": {
            "text/plain": [
              "Statement    0\n",
              "Label        0\n",
              "dtype: int64"
            ]
          },
          "metadata": {},
          "execution_count": 118
        }
      ]
    },
    {
      "cell_type": "code",
      "source": [
        "#seperate x &y\n",
        "X=data.drop(columns='Label',axis=1)\n",
        "Y=data['Label']\n",
        "X\n",
        "Y"
      ],
      "metadata": {
        "colab": {
          "base_uri": "https://localhost:8080/"
        },
        "id": "6My5RqYV5YcV",
        "outputId": "a2c6f6a4-41e2-4500-e889-37b2991d4834"
      },
      "execution_count": 119,
      "outputs": [
        {
          "output_type": "execute_result",
          "data": {
            "text/plain": [
              "0        False\n",
              "1         True\n",
              "2         True\n",
              "3        False\n",
              "4         True\n",
              "         ...  \n",
              "10235     True\n",
              "10236     True\n",
              "10237     True\n",
              "10238    False\n",
              "10239    False\n",
              "Name: Label, Length: 10240, dtype: bool"
            ]
          },
          "metadata": {},
          "execution_count": 119
        }
      ]
    },
    {
      "cell_type": "code",
      "source": [
        "#function to clean and transform data\n",
        "def transform_text(text):\n",
        "  text=text.lower()\n",
        "  text=nltk.word_tokenize(text)\n",
        "  y=[]\n",
        "  for i in text:\n",
        "    if i.isalnum():\n",
        "      y.append(i)\n",
        "  text=y[:]\n",
        "  y=[]\n",
        "  y=[ps.stem(word) for word in text if word not in stopwords.words('english')]\n",
        "  return \" \".join(y)"
      ],
      "metadata": {
        "id": "r7BnTqgP5p_r"
      },
      "execution_count": 120,
      "outputs": []
    },
    {
      "cell_type": "code",
      "source": [
        "data['Statement']=data['Statement'].apply(transform_text)"
      ],
      "metadata": {
        "id": "GtN8cZ_R82P1"
      },
      "execution_count": 101,
      "outputs": []
    },
    {
      "cell_type": "code",
      "source": [
        "print(data)"
      ],
      "metadata": {
        "colab": {
          "base_uri": "https://localhost:8080/"
        },
        "id": "XA0CdmtW9Uc_",
        "outputId": "730e3fbc-316b-42fd-fa17-8c1be8cd79dd"
      },
      "execution_count": 102,
      "outputs": [
        {
          "output_type": "stream",
          "name": "stdout",
          "text": [
            "                                               Statement  Label\n",
            "0         say anni list polit group support abort demand  False\n",
            "1      declin coal start start natur ga took start be...   True\n",
            "2      hillari clinton agre john mccain vote give geo...   True\n",
            "3      health care reform legisl like mandat free sex...  False\n",
            "4                       econom turnaround start end term   True\n",
            "...                                                  ...    ...\n",
            "10235  larger number shark attack florida case voter ...   True\n",
            "10236      democrat becom parti atlanta metro area black   True\n",
            "10237  say altern social secur oper galveston counti ...   True\n",
            "10238               lift cuban embargo allow travel cuba  False\n",
            "10239  depart veteran affair manual tell veteran stuf...  False\n",
            "\n",
            "[10240 rows x 2 columns]\n"
          ]
        }
      ]
    },
    {
      "cell_type": "code",
      "source": [
        "X=data['Statement'].values\n",
        "Y=data['Label'].values"
      ],
      "metadata": {
        "id": "giat0Yx19iYG"
      },
      "execution_count": 103,
      "outputs": []
    },
    {
      "cell_type": "code",
      "source": [
        "vectorizer=TfidfVectorizer()\n",
        "vectorizer.fit(X)\n",
        "X=vectorizer.transform(X)"
      ],
      "metadata": {
        "id": "smKyafSd8V1p"
      },
      "execution_count": 104,
      "outputs": []
    },
    {
      "cell_type": "code",
      "source": [
        "print(X)"
      ],
      "metadata": {
        "colab": {
          "base_uri": "https://localhost:8080/"
        },
        "id": "MQkj-TGS-CfS",
        "outputId": "7d218908-f667-44cd-a8c2-6a0d431894a3"
      },
      "execution_count": 105,
      "outputs": [
        {
          "output_type": "stream",
          "name": "stdout",
          "text": [
            "  (0, 6937)\t0.2479480068686816\n",
            "  (0, 6226)\t0.13621700210761026\n",
            "  (0, 5480)\t0.3432626244453162\n",
            "  (0, 4291)\t0.3812079519870589\n",
            "  (0, 3275)\t0.3432626244453162\n",
            "  (0, 2123)\t0.40577591571178007\n",
            "  (0, 690)\t0.5348556431607517\n",
            "  (0, 435)\t0.2970927466191125\n",
            "  (1, 7226)\t0.20188150682360842\n",
            "  (1, 6750)\t0.6785289823523206\n",
            "  (1, 5583)\t0.14785493360425483\n",
            "  (1, 4823)\t0.2743530126831687\n",
            "  (1, 3119)\t0.2224927260756085\n",
            "  (1, 3056)\t0.22383327300737246\n",
            "  (1, 2075)\t0.2727081447947497\n",
            "  (1, 1648)\t0.27975461075155794\n",
            "  (1, 1311)\t0.19750151612482283\n",
            "  (1, 1002)\t0.2681559998611685\n",
            "  (1, 505)\t0.1963680459801407\n",
            "  (2, 7641)\t0.192155137008578\n",
            "  (2, 4508)\t0.2735772665448082\n",
            "  (2, 3933)\t0.26476956808168783\n",
            "  (2, 3831)\t0.30285034563252805\n",
            "  (2, 3478)\t0.2474195132217653\n",
            "  (2, 3151)\t0.2715268422628416\n",
            "  :\t:\n",
            "  (10237, 4530)\t0.3126285192306642\n",
            "  (10237, 4335)\t0.23195575212573594\n",
            "  (10237, 3067)\t0.3276432105752006\n",
            "  (10237, 1879)\t0.19058109202812845\n",
            "  (10237, 628)\t0.29761382788612767\n",
            "  (10238, 7292)\t0.3977343553550759\n",
            "  (10238, 4267)\t0.41969407393010205\n",
            "  (10238, 2513)\t0.46710887414121316\n",
            "  (10238, 1957)\t0.4488857632575502\n",
            "  (10238, 1956)\t0.40760876870727936\n",
            "  (10238, 615)\t0.28254243892623754\n",
            "  (10239, 7587)\t0.4292192936194236\n",
            "  (10239, 7560)\t0.2651730979278455\n",
            "  (10239, 7077)\t0.23432702584876455\n",
            "  (10239, 6910)\t0.26760397751957327\n",
            "  (10239, 6867)\t0.31174355118500113\n",
            "  (10239, 5829)\t0.24318178289319817\n",
            "  (10239, 4432)\t0.3218796777696331\n",
            "  (10239, 4270)\t0.17801412361179098\n",
            "  (10239, 4080)\t0.19763267010616592\n",
            "  (10239, 2546)\t0.2730352885168828\n",
            "  (10239, 2142)\t0.19594652162857998\n",
            "  (10239, 1700)\t0.21517339930183846\n",
            "  (10239, 1694)\t0.22974476266004235\n",
            "  (10239, 525)\t0.2761010281507554\n"
          ]
        }
      ]
    },
    {
      "cell_type": "code",
      "source": [
        "X.shape"
      ],
      "metadata": {
        "colab": {
          "base_uri": "https://localhost:8080/"
        },
        "id": "EDbpDp0D-GGO",
        "outputId": "75e60fca-7614-4435-b574-4c319608f85e"
      },
      "execution_count": 106,
      "outputs": [
        {
          "output_type": "execute_result",
          "data": {
            "text/plain": [
              "(10240, 7958)"
            ]
          },
          "metadata": {},
          "execution_count": 106
        }
      ]
    },
    {
      "cell_type": "code",
      "source": [
        "Y.shape"
      ],
      "metadata": {
        "colab": {
          "base_uri": "https://localhost:8080/"
        },
        "id": "sMa4WIkb-I-f",
        "outputId": "0a71f7b7-8eb2-4136-d6fb-64f7d0e9fce3"
      },
      "execution_count": 107,
      "outputs": [
        {
          "output_type": "execute_result",
          "data": {
            "text/plain": [
              "(10240,)"
            ]
          },
          "metadata": {},
          "execution_count": 107
        }
      ]
    },
    {
      "cell_type": "code",
      "source": [
        "#training data\n",
        "X_train,X_test,Y_train,Y_test=train_test_split(X,Y,test_size=0.1,stratify=Y,random_state=2)"
      ],
      "metadata": {
        "id": "Xr1Wxavk-Mfw"
      },
      "execution_count": 108,
      "outputs": []
    },
    {
      "cell_type": "code",
      "source": [
        "#fitting model\n",
        "model=LogisticRegression()"
      ],
      "metadata": {
        "id": "atoXPEwX-mSi"
      },
      "execution_count": 109,
      "outputs": []
    },
    {
      "cell_type": "code",
      "source": [
        "model.fit(X_train,Y_train)"
      ],
      "metadata": {
        "colab": {
          "base_uri": "https://localhost:8080/",
          "height": 74
        },
        "id": "Hf9yGeTx-6jR",
        "outputId": "0985f61e-1318-4da5-dc87-1b9cb9076bb1"
      },
      "execution_count": 110,
      "outputs": [
        {
          "output_type": "execute_result",
          "data": {
            "text/plain": [
              "LogisticRegression()"
            ],
            "text/html": [
              "<style>#sk-container-id-4 {color: black;background-color: white;}#sk-container-id-4 pre{padding: 0;}#sk-container-id-4 div.sk-toggleable {background-color: white;}#sk-container-id-4 label.sk-toggleable__label {cursor: pointer;display: block;width: 100%;margin-bottom: 0;padding: 0.3em;box-sizing: border-box;text-align: center;}#sk-container-id-4 label.sk-toggleable__label-arrow:before {content: \"▸\";float: left;margin-right: 0.25em;color: #696969;}#sk-container-id-4 label.sk-toggleable__label-arrow:hover:before {color: black;}#sk-container-id-4 div.sk-estimator:hover label.sk-toggleable__label-arrow:before {color: black;}#sk-container-id-4 div.sk-toggleable__content {max-height: 0;max-width: 0;overflow: hidden;text-align: left;background-color: #f0f8ff;}#sk-container-id-4 div.sk-toggleable__content pre {margin: 0.2em;color: black;border-radius: 0.25em;background-color: #f0f8ff;}#sk-container-id-4 input.sk-toggleable__control:checked~div.sk-toggleable__content {max-height: 200px;max-width: 100%;overflow: auto;}#sk-container-id-4 input.sk-toggleable__control:checked~label.sk-toggleable__label-arrow:before {content: \"▾\";}#sk-container-id-4 div.sk-estimator input.sk-toggleable__control:checked~label.sk-toggleable__label {background-color: #d4ebff;}#sk-container-id-4 div.sk-label input.sk-toggleable__control:checked~label.sk-toggleable__label {background-color: #d4ebff;}#sk-container-id-4 input.sk-hidden--visually {border: 0;clip: rect(1px 1px 1px 1px);clip: rect(1px, 1px, 1px, 1px);height: 1px;margin: -1px;overflow: hidden;padding: 0;position: absolute;width: 1px;}#sk-container-id-4 div.sk-estimator {font-family: monospace;background-color: #f0f8ff;border: 1px dotted black;border-radius: 0.25em;box-sizing: border-box;margin-bottom: 0.5em;}#sk-container-id-4 div.sk-estimator:hover {background-color: #d4ebff;}#sk-container-id-4 div.sk-parallel-item::after {content: \"\";width: 100%;border-bottom: 1px solid gray;flex-grow: 1;}#sk-container-id-4 div.sk-label:hover label.sk-toggleable__label {background-color: #d4ebff;}#sk-container-id-4 div.sk-serial::before {content: \"\";position: absolute;border-left: 1px solid gray;box-sizing: border-box;top: 0;bottom: 0;left: 50%;z-index: 0;}#sk-container-id-4 div.sk-serial {display: flex;flex-direction: column;align-items: center;background-color: white;padding-right: 0.2em;padding-left: 0.2em;position: relative;}#sk-container-id-4 div.sk-item {position: relative;z-index: 1;}#sk-container-id-4 div.sk-parallel {display: flex;align-items: stretch;justify-content: center;background-color: white;position: relative;}#sk-container-id-4 div.sk-item::before, #sk-container-id-4 div.sk-parallel-item::before {content: \"\";position: absolute;border-left: 1px solid gray;box-sizing: border-box;top: 0;bottom: 0;left: 50%;z-index: -1;}#sk-container-id-4 div.sk-parallel-item {display: flex;flex-direction: column;z-index: 1;position: relative;background-color: white;}#sk-container-id-4 div.sk-parallel-item:first-child::after {align-self: flex-end;width: 50%;}#sk-container-id-4 div.sk-parallel-item:last-child::after {align-self: flex-start;width: 50%;}#sk-container-id-4 div.sk-parallel-item:only-child::after {width: 0;}#sk-container-id-4 div.sk-dashed-wrapped {border: 1px dashed gray;margin: 0 0.4em 0.5em 0.4em;box-sizing: border-box;padding-bottom: 0.4em;background-color: white;}#sk-container-id-4 div.sk-label label {font-family: monospace;font-weight: bold;display: inline-block;line-height: 1.2em;}#sk-container-id-4 div.sk-label-container {text-align: center;}#sk-container-id-4 div.sk-container {/* jupyter's `normalize.less` sets `[hidden] { display: none; }` but bootstrap.min.css set `[hidden] { display: none !important; }` so we also need the `!important` here to be able to override the default hidden behavior on the sphinx rendered scikit-learn.org. See: https://github.com/scikit-learn/scikit-learn/issues/21755 */display: inline-block !important;position: relative;}#sk-container-id-4 div.sk-text-repr-fallback {display: none;}</style><div id=\"sk-container-id-4\" class=\"sk-top-container\"><div class=\"sk-text-repr-fallback\"><pre>LogisticRegression()</pre><b>In a Jupyter environment, please rerun this cell to show the HTML representation or trust the notebook. <br />On GitHub, the HTML representation is unable to render, please try loading this page with nbviewer.org.</b></div><div class=\"sk-container\" hidden><div class=\"sk-item\"><div class=\"sk-estimator sk-toggleable\"><input class=\"sk-toggleable__control sk-hidden--visually\" id=\"sk-estimator-id-4\" type=\"checkbox\" checked><label for=\"sk-estimator-id-4\" class=\"sk-toggleable__label sk-toggleable__label-arrow\">LogisticRegression</label><div class=\"sk-toggleable__content\"><pre>LogisticRegression()</pre></div></div></div></div></div>"
            ]
          },
          "metadata": {},
          "execution_count": 110
        }
      ]
    },
    {
      "cell_type": "code",
      "source": [
        "prediction_train=model.predict(X_train)\n",
        "train_accuracy=accuracy_score(prediction_train,Y_train)\n",
        "print(train_accuracy)"
      ],
      "metadata": {
        "colab": {
          "base_uri": "https://localhost:8080/"
        },
        "id": "XOr7YgZF--E8",
        "outputId": "d1d28173-d73e-4a3a-af53-ce2c0b3720ce"
      },
      "execution_count": 111,
      "outputs": [
        {
          "output_type": "stream",
          "name": "stdout",
          "text": [
            "0.7650824652777778\n"
          ]
        }
      ]
    },
    {
      "cell_type": "code",
      "source": [
        "prediction_test=model.predict(X_test)\n",
        "test_accuracy=accuracy_score(prediction_test,Y_test)\n",
        "print(test_accuracy)"
      ],
      "metadata": {
        "colab": {
          "base_uri": "https://localhost:8080/"
        },
        "id": "mMH_t6ro_ZYl",
        "outputId": "9b4df6ba-8a7f-4743-f531-fe4a478af881"
      },
      "execution_count": 112,
      "outputs": [
        {
          "output_type": "stream",
          "name": "stdout",
          "text": [
            "0.6220703125\n"
          ]
        }
      ]
    },
    {
      "cell_type": "code",
      "source": [
        "print(X)\n"
      ],
      "metadata": {
        "colab": {
          "base_uri": "https://localhost:8080/"
        },
        "id": "gfdkuG_eBM7n",
        "outputId": "add692fd-3624-4766-c636-251feaaf6f9c"
      },
      "execution_count": 113,
      "outputs": [
        {
          "output_type": "stream",
          "name": "stdout",
          "text": [
            "  (0, 6937)\t0.2479480068686816\n",
            "  (0, 6226)\t0.13621700210761026\n",
            "  (0, 5480)\t0.3432626244453162\n",
            "  (0, 4291)\t0.3812079519870589\n",
            "  (0, 3275)\t0.3432626244453162\n",
            "  (0, 2123)\t0.40577591571178007\n",
            "  (0, 690)\t0.5348556431607517\n",
            "  (0, 435)\t0.2970927466191125\n",
            "  (1, 7226)\t0.20188150682360842\n",
            "  (1, 6750)\t0.6785289823523206\n",
            "  (1, 5583)\t0.14785493360425483\n",
            "  (1, 4823)\t0.2743530126831687\n",
            "  (1, 3119)\t0.2224927260756085\n",
            "  (1, 3056)\t0.22383327300737246\n",
            "  (1, 2075)\t0.2727081447947497\n",
            "  (1, 1648)\t0.27975461075155794\n",
            "  (1, 1311)\t0.19750151612482283\n",
            "  (1, 1002)\t0.2681559998611685\n",
            "  (1, 505)\t0.1963680459801407\n",
            "  (2, 7641)\t0.192155137008578\n",
            "  (2, 4508)\t0.2735772665448082\n",
            "  (2, 3933)\t0.26476956808168783\n",
            "  (2, 3831)\t0.30285034563252805\n",
            "  (2, 3478)\t0.2474195132217653\n",
            "  (2, 3151)\t0.2715268422628416\n",
            "  :\t:\n",
            "  (10237, 4530)\t0.3126285192306642\n",
            "  (10237, 4335)\t0.23195575212573594\n",
            "  (10237, 3067)\t0.3276432105752006\n",
            "  (10237, 1879)\t0.19058109202812845\n",
            "  (10237, 628)\t0.29761382788612767\n",
            "  (10238, 7292)\t0.3977343553550759\n",
            "  (10238, 4267)\t0.41969407393010205\n",
            "  (10238, 2513)\t0.46710887414121316\n",
            "  (10238, 1957)\t0.4488857632575502\n",
            "  (10238, 1956)\t0.40760876870727936\n",
            "  (10238, 615)\t0.28254243892623754\n",
            "  (10239, 7587)\t0.4292192936194236\n",
            "  (10239, 7560)\t0.2651730979278455\n",
            "  (10239, 7077)\t0.23432702584876455\n",
            "  (10239, 6910)\t0.26760397751957327\n",
            "  (10239, 6867)\t0.31174355118500113\n",
            "  (10239, 5829)\t0.24318178289319817\n",
            "  (10239, 4432)\t0.3218796777696331\n",
            "  (10239, 4270)\t0.17801412361179098\n",
            "  (10239, 4080)\t0.19763267010616592\n",
            "  (10239, 2546)\t0.2730352885168828\n",
            "  (10239, 2142)\t0.19594652162857998\n",
            "  (10239, 1700)\t0.21517339930183846\n",
            "  (10239, 1694)\t0.22974476266004235\n",
            "  (10239, 525)\t0.2761010281507554\n"
          ]
        }
      ]
    },
    {
      "cell_type": "code",
      "source": [
        "prediction=model.predict(X_train)\n",
        "print(prediction)\n",
        "  "
      ],
      "metadata": {
        "colab": {
          "base_uri": "https://localhost:8080/"
        },
        "id": "b8o9gsJZAdE-",
        "outputId": "f6a26812-e439-46dd-8756-2e25bbef3cb9"
      },
      "execution_count": 125,
      "outputs": [
        {
          "output_type": "stream",
          "name": "stdout",
          "text": [
            "[ True  True  True ...  True False  True]\n"
          ]
        }
      ]
    }
  ]
}