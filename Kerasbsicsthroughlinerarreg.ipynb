{
  "nbformat": 4,
  "nbformat_minor": 0,
  "metadata": {
    "colab": {
      "provenance": [],
      "authorship_tag": "ABX9TyPg38hIykRwEG3kiw5Vm5VS",
      "include_colab_link": true
    },
    "kernelspec": {
      "name": "python3",
      "display_name": "Python 3"
    },
    "language_info": {
      "name": "python"
    }
  },
  "cells": [
    {
      "cell_type": "markdown",
      "metadata": {
        "id": "view-in-github",
        "colab_type": "text"
      },
      "source": [
        "<a href=\"https://colab.research.google.com/github/meghanareddy1808/nlp/blob/main/Kerasbsicsthroughlinerarreg.ipynb\" target=\"_parent\"><img src=\"https://colab.research.google.com/assets/colab-badge.svg\" alt=\"Open In Colab\"/></a>"
      ]
    },
    {
      "cell_type": "code",
      "execution_count": 2,
      "metadata": {
        "id": "_kP8uQvfa_IX"
      },
      "outputs": [],
      "source": [
        "#Basics of tensorflow syntax\n",
        "import numpy as np\n",
        "import tensorflow as tf\n",
        "import matplotlib.pyplot as plt\n",
        "\n",
        "from tensorflow.keras.layers import Dense, Input\n",
        "from tensorflow.keras.models import Model\n",
        "from tensorflow.keras.optimizers import Adam\n",
        "\n"
      ]
    },
    {
      "cell_type": "code",
      "source": [
        "N=100\n",
        "X=np.random.random(N)*6-3\n",
        "#adding gaussian noise also\n",
        "y=0.5*X-1+ np.random.randn(N)*0.5"
      ],
      "metadata": {
        "id": "LR9MJ_fJeD6q"
      },
      "execution_count": 4,
      "outputs": []
    },
    {
      "cell_type": "code",
      "source": [
        "plt.scatter(X,y)"
      ],
      "metadata": {
        "colab": {
          "base_uri": "https://localhost:8080/",
          "height": 447
        },
        "id": "WnT6P8z_ezTE",
        "outputId": "f453d2db-7ae4-4059-9ce0-6b3f7e2ac166"
      },
      "execution_count": 6,
      "outputs": [
        {
          "output_type": "execute_result",
          "data": {
            "text/plain": [
              "<matplotlib.collections.PathCollection at 0x7e7e6d37ba30>"
            ]
          },
          "metadata": {},
          "execution_count": 6
        },
        {
          "output_type": "display_data",
          "data": {
            "text/plain": [
              "<Figure size 640x480 with 1 Axes>"
            ],
            "image/png": "[encoded data removed]"
          },
          "metadata": {}
        }
      ]
    },
    {
      "cell_type": "code",
      "source": [
        "#build model\n",
        "i=Input(shape=(1,)) #1D\n",
        "x=Dense(1)(i) # this (mx+b) happens inside this layer, Dense(1)--crates the obj, but extra i to treat as obj\n",
        "model= Model(i,x)\n",
        "\n"
      ],
      "metadata": {
        "id": "-_k3LH8rezID"
      },
      "execution_count": 8,
      "outputs": []
    },
    {
      "cell_type": "code",
      "source": [
        "model.summary()\n",
        "#Dense Layer --- neurons in this layer ae connected to every other neuron of the prev layer"
      ],
      "metadata": {
        "colab": {
          "base_uri": "https://localhost:8080/"
        },
        "id": "vm-9hSm4hnTO",
        "outputId": "d85039b0-4e4c-4b9d-ac54-f1ef36edc7ab"
      },
      "execution_count": 10,
      "outputs": [
        {
          "output_type": "stream",
          "name": "stdout",
          "text": [
            "Model: \"model_1\"\n",
            "_________________________________________________________________\n",
            " Layer (type)                Output Shape              Param #   \n",
            "=================================================================\n",
            " input_2 (InputLayer)        [(None, 1)]               0         \n",
            "                                                                 \n",
            " dense_1 (Dense)             (None, 1)                 2         \n",
            "                                                                 \n",
            "=================================================================\n",
            "Total params: 2 (8.00 Byte)\n",
            "Trainable params: 2 (8.00 Byte)\n",
            "Non-trainable params: 0 (0.00 Byte)\n",
            "_________________________________________________________________\n"
          ]
        }
      ]
    },
    {
      "cell_type": "code",
      "source": [
        "model.compile(\n",
        "    loss='mse',\n",
        "    #optimizer='adam' ,if want to use default values else down one\n",
        "    optimizer= Adam(learning_rate=0.1) ,#gradient descent\n",
        "    metrics=['mae'] #mean absol error-----relevant in classi ,not in reg here cuz there loss is diff\n",
        "\n",
        "\n",
        ")"
      ],
      "metadata": {
        "id": "S-iJUbNKh-BW"
      },
      "execution_count": 13,
      "outputs": []
    },
    {
      "cell_type": "code",
      "source": [
        "r=model.fit(\n",
        "    X.reshape(-1,1),y,\n",
        "    epochs = 200,\n",
        "    batch_size =32,\n",
        ")"
      ],
      "metadata": {
        "colab": {
          "base_uri": "https://localhost:8080/"
        },
        "id": "uN0FhRowlADu",
        "outputId": "4763dee6-ae09-42f4-d226-1e238c044c56"
      },
      "execution_count": 14,
      "outputs": [
        {
          "output_type": "stream",
          "name": "stdout",
          "text": [
            "Epoch 1/200\n",
            "4/4 [==============================] - 0s 4ms/step - loss: 3.2846 - mae: 1.4703\n",
            "Epoch 2/200\n",
            "4/4 [==============================] - 0s 2ms/step - loss: 1.6031 - mae: 1.0078\n",
            "Epoch 3/200\n",
            "4/4 [==============================] - 0s 2ms/step - loss: 0.6900 - mae: 0.6957\n",
            "Epoch 4/200\n",
            "4/4 [==============================] - 0s 2ms/step - loss: 0.3568 - mae: 0.4912\n",
            "Epoch 5/200\n",
            "4/4 [==============================] - 0s 2ms/step - loss: 0.3796 - mae: 0.5005\n",
            "Epoch 6/200\n",
            "4/4 [==============================] - 0s 2ms/step - loss: 0.4419 - mae: 0.5592\n",
            "Epoch 7/200\n",
            "4/4 [==============================] - 0s 2ms/step - loss: 0.4449 - mae: 0.5564\n",
            "Epoch 8/200\n",
            "4/4 [==============================] - 0s 2ms/step - loss: 0.4048 - mae: 0.5356\n",
            "Epoch 9/200\n",
            "4/4 [==============================] - 0s 2ms/step - loss: 0.3645 - mae: 0.5033\n",
            "Epoch 10/200\n",
            "4/4 [==============================] - 0s 2ms/step - loss: 0.3188 - mae: 0.4646\n",
            "Epoch 11/200\n",
            "4/4 [==============================] - 0s 2ms/step - loss: 0.2987 - mae: 0.4537\n",
            "Epoch 12/200\n",
            "4/4 [==============================] - 0s 3ms/step - loss: 0.2963 - mae: 0.4556\n",
            "Epoch 13/200\n",
            "4/4 [==============================] - 0s 2ms/step - loss: 0.3018 - mae: 0.4599\n",
            "Epoch 14/200\n",
            "4/4 [==============================] - 0s 2ms/step - loss: 0.3016 - mae: 0.4587\n",
            "Epoch 15/200\n",
            "4/4 [==============================] - 0s 2ms/step - loss: 0.2975 - mae: 0.4569\n",
            "Epoch 16/200\n",
            "4/4 [==============================] - 0s 2ms/step - loss: 0.2915 - mae: 0.4489\n",
            "Epoch 17/200\n",
            "4/4 [==============================] - 0s 2ms/step - loss: 0.2899 - mae: 0.4460\n",
            "Epoch 18/200\n",
            "4/4 [==============================] - 0s 2ms/step - loss: 0.2905 - mae: 0.4430\n",
            "Epoch 19/200\n",
            "4/4 [==============================] - 0s 2ms/step - loss: 0.2998 - mae: 0.4448\n",
            "Epoch 20/200\n",
            "4/4 [==============================] - 0s 2ms/step - loss: 0.3024 - mae: 0.4465\n",
            "Epoch 21/200\n",
            "4/4 [==============================] - 0s 2ms/step - loss: 0.2973 - mae: 0.4426\n",
            "Epoch 22/200\n",
            "4/4 [==============================] - 0s 2ms/step - loss: 0.2976 - mae: 0.4452\n",
            "Epoch 23/200\n",
            "4/4 [==============================] - 0s 2ms/step - loss: 0.2911 - mae: 0.4434\n",
            "Epoch 24/200\n",
            "4/4 [==============================] - 0s 2ms/step - loss: 0.2897 - mae: 0.4480\n",
            "Epoch 25/200\n",
            "4/4 [==============================] - 0s 2ms/step - loss: 0.3048 - mae: 0.4561\n",
            "Epoch 26/200\n",
            "4/4 [==============================] - 0s 2ms/step - loss: 0.3213 - mae: 0.4646\n",
            "Epoch 27/200\n",
            "4/4 [==============================] - 0s 2ms/step - loss: 0.3061 - mae: 0.4548\n",
            "Epoch 28/200\n",
            "4/4 [==============================] - 0s 2ms/step - loss: 0.2890 - mae: 0.4441\n",
            "Epoch 29/200\n",
            "4/4 [==============================] - 0s 2ms/step - loss: 0.2969 - mae: 0.4430\n",
            "Epoch 30/200\n",
            "4/4 [==============================] - 0s 2ms/step - loss: 0.3208 - mae: 0.4573\n",
            "Epoch 31/200\n",
            "4/4 [==============================] - 0s 2ms/step - loss: 0.3070 - mae: 0.4524\n",
            "Epoch 32/200\n",
            "4/4 [==============================] - 0s 4ms/step - loss: 0.3021 - mae: 0.4617\n",
            "Epoch 33/200\n",
            "4/4 [==============================] - 0s 4ms/step - loss: 0.3291 - mae: 0.4745\n",
            "Epoch 34/200\n",
            "4/4 [==============================] - 0s 3ms/step - loss: 0.3081 - mae: 0.4607\n",
            "Epoch 35/200\n",
            "4/4 [==============================] - 0s 2ms/step - loss: 0.2866 - mae: 0.4412\n",
            "Epoch 36/200\n",
            "4/4 [==============================] - 0s 3ms/step - loss: 0.2997 - mae: 0.4423\n",
            "Epoch 37/200\n",
            "4/4 [==============================] - 0s 3ms/step - loss: 0.3126 - mae: 0.4503\n",
            "Epoch 38/200\n",
            "4/4 [==============================] - 0s 2ms/step - loss: 0.2992 - mae: 0.4430\n",
            "Epoch 39/200\n",
            "4/4 [==============================] - 0s 2ms/step - loss: 0.2861 - mae: 0.4404\n",
            "Epoch 40/200\n",
            "4/4 [==============================] - 0s 2ms/step - loss: 0.2937 - mae: 0.4496\n",
            "Epoch 41/200\n",
            "4/4 [==============================] - 0s 2ms/step - loss: 0.2838 - mae: 0.4403\n",
            "Epoch 42/200\n",
            "4/4 [==============================] - 0s 2ms/step - loss: 0.3007 - mae: 0.4429\n",
            "Epoch 43/200\n",
            "4/4 [==============================] - 0s 2ms/step - loss: 0.2956 - mae: 0.4394\n",
            "Epoch 44/200\n",
            "4/4 [==============================] - 0s 3ms/step - loss: 0.2930 - mae: 0.4455\n",
            "Epoch 45/200\n",
            "4/4 [==============================] - 0s 2ms/step - loss: 0.2934 - mae: 0.4457\n",
            "Epoch 46/200\n",
            "4/4 [==============================] - 0s 3ms/step - loss: 0.2898 - mae: 0.4449\n",
            "Epoch 47/200\n",
            "4/4 [==============================] - 0s 3ms/step - loss: 0.2889 - mae: 0.4447\n",
            "Epoch 48/200\n",
            "4/4 [==============================] - 0s 2ms/step - loss: 0.2953 - mae: 0.4510\n",
            "Epoch 49/200\n",
            "4/4 [==============================] - 0s 2ms/step - loss: 0.3065 - mae: 0.4583\n",
            "Epoch 50/200\n",
            "4/4 [==============================] - 0s 2ms/step - loss: 0.2944 - mae: 0.4488\n",
            "Epoch 51/200\n",
            "4/4 [==============================] - 0s 2ms/step - loss: 0.3011 - mae: 0.4437\n",
            "Epoch 52/200\n",
            "4/4 [==============================] - 0s 2ms/step - loss: 0.3188 - mae: 0.4541\n",
            "Epoch 53/200\n",
            "4/4 [==============================] - 0s 2ms/step - loss: 0.2933 - mae: 0.4384\n",
            "Epoch 54/200\n",
            "4/4 [==============================] - 0s 2ms/step - loss: 0.2904 - mae: 0.4503\n",
            "Epoch 55/200\n",
            "4/4 [==============================] - 0s 3ms/step - loss: 0.3042 - mae: 0.4584\n",
            "Epoch 56/200\n",
            "4/4 [==============================] - 0s 4ms/step - loss: 0.2910 - mae: 0.4502\n",
            "Epoch 57/200\n",
            "4/4 [==============================] - 0s 3ms/step - loss: 0.3025 - mae: 0.4480\n",
            "Epoch 58/200\n",
            "4/4 [==============================] - 0s 3ms/step - loss: 0.2961 - mae: 0.4454\n",
            "Epoch 59/200\n",
            "4/4 [==============================] - 0s 3ms/step - loss: 0.2892 - mae: 0.4462\n",
            "Epoch 60/200\n",
            "4/4 [==============================] - 0s 3ms/step - loss: 0.2950 - mae: 0.4486\n",
            "Epoch 61/200\n",
            "4/4 [==============================] - 0s 2ms/step - loss: 0.2892 - mae: 0.4427\n",
            "Epoch 62/200\n",
            "4/4 [==============================] - 0s 2ms/step - loss: 0.2903 - mae: 0.4408\n",
            "Epoch 63/200\n",
            "4/4 [==============================] - 0s 3ms/step - loss: 0.2880 - mae: 0.4409\n",
            "Epoch 64/200\n",
            "4/4 [==============================] - 0s 2ms/step - loss: 0.2933 - mae: 0.4492\n",
            "Epoch 65/200\n",
            "4/4 [==============================] - 0s 2ms/step - loss: 0.3060 - mae: 0.4597\n",
            "Epoch 66/200\n",
            "4/4 [==============================] - 0s 3ms/step - loss: 0.2998 - mae: 0.4569\n",
            "Epoch 67/200\n",
            "4/4 [==============================] - 0s 3ms/step - loss: 0.2985 - mae: 0.4570\n",
            "Epoch 68/200\n",
            "4/4 [==============================] - 0s 2ms/step - loss: 0.2914 - mae: 0.4469\n",
            "Epoch 69/200\n",
            "4/4 [==============================] - 0s 2ms/step - loss: 0.2916 - mae: 0.4427\n",
            "Epoch 70/200\n",
            "4/4 [==============================] - 0s 2ms/step - loss: 0.2898 - mae: 0.4416\n",
            "Epoch 71/200\n",
            "4/4 [==============================] - 0s 2ms/step - loss: 0.2926 - mae: 0.4461\n",
            "Epoch 72/200\n",
            "4/4 [==============================] - 0s 3ms/step - loss: 0.2942 - mae: 0.4489\n",
            "Epoch 73/200\n",
            "4/4 [==============================] - 0s 3ms/step - loss: 0.2912 - mae: 0.4484\n",
            "Epoch 74/200\n",
            "4/4 [==============================] - 0s 3ms/step - loss: 0.2927 - mae: 0.4499\n",
            "Epoch 75/200\n",
            "4/4 [==============================] - 0s 2ms/step - loss: 0.2969 - mae: 0.4509\n",
            "Epoch 76/200\n",
            "4/4 [==============================] - 0s 3ms/step - loss: 0.2882 - mae: 0.4438\n",
            "Epoch 77/200\n",
            "4/4 [==============================] - 0s 3ms/step - loss: 0.3057 - mae: 0.4557\n",
            "Epoch 78/200\n",
            "4/4 [==============================] - 0s 2ms/step - loss: 0.3119 - mae: 0.4583\n",
            "Epoch 79/200\n",
            "4/4 [==============================] - 0s 2ms/step - loss: 0.2987 - mae: 0.4501\n",
            "Epoch 80/200\n",
            "4/4 [==============================] - 0s 2ms/step - loss: 0.2884 - mae: 0.4408\n",
            "Epoch 81/200\n",
            "4/4 [==============================] - 0s 2ms/step - loss: 0.2912 - mae: 0.4474\n",
            "Epoch 82/200\n",
            "4/4 [==============================] - 0s 3ms/step - loss: 0.2918 - mae: 0.4457\n",
            "Epoch 83/200\n",
            "4/4 [==============================] - 0s 3ms/step - loss: 0.2963 - mae: 0.4428\n",
            "Epoch 84/200\n",
            "4/4 [==============================] - 0s 3ms/step - loss: 0.2971 - mae: 0.4436\n",
            "Epoch 85/200\n",
            "4/4 [==============================] - 0s 2ms/step - loss: 0.2918 - mae: 0.4426\n",
            "Epoch 86/200\n",
            "4/4 [==============================] - 0s 2ms/step - loss: 0.2896 - mae: 0.4438\n",
            "Epoch 87/200\n",
            "4/4 [==============================] - 0s 2ms/step - loss: 0.2934 - mae: 0.4493\n",
            "Epoch 88/200\n",
            "4/4 [==============================] - 0s 2ms/step - loss: 0.2946 - mae: 0.4472\n",
            "Epoch 89/200\n",
            "4/4 [==============================] - 0s 2ms/step - loss: 0.2926 - mae: 0.4447\n",
            "Epoch 90/200\n",
            "4/4 [==============================] - 0s 2ms/step - loss: 0.2885 - mae: 0.4439\n",
            "Epoch 91/200\n",
            "4/4 [==============================] - 0s 2ms/step - loss: 0.2924 - mae: 0.4418\n",
            "Epoch 92/200\n",
            "4/4 [==============================] - 0s 2ms/step - loss: 0.2952 - mae: 0.4436\n",
            "Epoch 93/200\n",
            "4/4 [==============================] - 0s 2ms/step - loss: 0.2908 - mae: 0.4411\n",
            "Epoch 94/200\n",
            "4/4 [==============================] - 0s 2ms/step - loss: 0.2907 - mae: 0.4412\n",
            "Epoch 95/200\n",
            "4/4 [==============================] - 0s 2ms/step - loss: 0.2880 - mae: 0.4423\n",
            "Epoch 96/200\n",
            "4/4 [==============================] - 0s 2ms/step - loss: 0.2888 - mae: 0.4448\n",
            "Epoch 97/200\n",
            "4/4 [==============================] - 0s 3ms/step - loss: 0.2892 - mae: 0.4451\n",
            "Epoch 98/200\n",
            "4/4 [==============================] - 0s 3ms/step - loss: 0.2908 - mae: 0.4432\n",
            "Epoch 99/200\n",
            "4/4 [==============================] - 0s 3ms/step - loss: 0.2952 - mae: 0.4488\n",
            "Epoch 100/200\n",
            "4/4 [==============================] - 0s 4ms/step - loss: 0.2953 - mae: 0.4523\n",
            "Epoch 101/200\n",
            "4/4 [==============================] - 0s 2ms/step - loss: 0.2909 - mae: 0.4480\n",
            "Epoch 102/200\n",
            "4/4 [==============================] - 0s 3ms/step - loss: 0.2931 - mae: 0.4449\n",
            "Epoch 103/200\n",
            "4/4 [==============================] - 0s 2ms/step - loss: 0.3006 - mae: 0.4474\n",
            "Epoch 104/200\n",
            "4/4 [==============================] - 0s 2ms/step - loss: 0.2897 - mae: 0.4422\n",
            "Epoch 105/200\n",
            "4/4 [==============================] - 0s 4ms/step - loss: 0.2997 - mae: 0.4507\n",
            "Epoch 106/200\n",
            "4/4 [==============================] - 0s 3ms/step - loss: 0.2888 - mae: 0.4408\n",
            "Epoch 107/200\n",
            "4/4 [==============================] - 0s 4ms/step - loss: 0.3173 - mae: 0.4554\n",
            "Epoch 108/200\n",
            "4/4 [==============================] - 0s 3ms/step - loss: 0.2979 - mae: 0.4413\n",
            "Epoch 109/200\n",
            "4/4 [==============================] - 0s 2ms/step - loss: 0.2922 - mae: 0.4459\n",
            "Epoch 110/200\n",
            "4/4 [==============================] - 0s 2ms/step - loss: 0.3213 - mae: 0.4711\n",
            "Epoch 111/200\n",
            "4/4 [==============================] - 0s 2ms/step - loss: 0.2964 - mae: 0.4508\n",
            "Epoch 112/200\n",
            "4/4 [==============================] - 0s 2ms/step - loss: 0.2932 - mae: 0.4425\n",
            "Epoch 113/200\n",
            "4/4 [==============================] - 0s 2ms/step - loss: 0.3079 - mae: 0.4473\n",
            "Epoch 114/200\n",
            "4/4 [==============================] - 0s 2ms/step - loss: 0.3019 - mae: 0.4454\n",
            "Epoch 115/200\n",
            "4/4 [==============================] - 0s 2ms/step - loss: 0.2929 - mae: 0.4457\n",
            "Epoch 116/200\n",
            "4/4 [==============================] - 0s 2ms/step - loss: 0.2916 - mae: 0.4489\n",
            "Epoch 117/200\n",
            "4/4 [==============================] - 0s 2ms/step - loss: 0.3038 - mae: 0.4462\n",
            "Epoch 118/200\n",
            "4/4 [==============================] - 0s 2ms/step - loss: 0.2998 - mae: 0.4476\n",
            "Epoch 119/200\n",
            "4/4 [==============================] - 0s 2ms/step - loss: 0.2976 - mae: 0.4512\n",
            "Epoch 120/200\n",
            "4/4 [==============================] - 0s 2ms/step - loss: 0.2922 - mae: 0.4490\n",
            "Epoch 121/200\n",
            "4/4 [==============================] - 0s 2ms/step - loss: 0.2888 - mae: 0.4434\n",
            "Epoch 122/200\n",
            "4/4 [==============================] - 0s 2ms/step - loss: 0.2914 - mae: 0.4407\n",
            "Epoch 123/200\n",
            "4/4 [==============================] - 0s 2ms/step - loss: 0.2933 - mae: 0.4414\n",
            "Epoch 124/200\n",
            "4/4 [==============================] - 0s 2ms/step - loss: 0.2908 - mae: 0.4459\n",
            "Epoch 125/200\n",
            "4/4 [==============================] - 0s 2ms/step - loss: 0.2909 - mae: 0.4488\n",
            "Epoch 126/200\n",
            "4/4 [==============================] - 0s 2ms/step - loss: 0.2918 - mae: 0.4468\n",
            "Epoch 127/200\n",
            "4/4 [==============================] - 0s 3ms/step - loss: 0.2922 - mae: 0.4450\n",
            "Epoch 128/200\n",
            "4/4 [==============================] - 0s 3ms/step - loss: 0.2910 - mae: 0.4404\n",
            "Epoch 129/200\n",
            "4/4 [==============================] - 0s 4ms/step - loss: 0.3000 - mae: 0.4434\n",
            "Epoch 130/200\n",
            "4/4 [==============================] - 0s 2ms/step - loss: 0.2850 - mae: 0.4362\n",
            "Epoch 131/200\n",
            "4/4 [==============================] - 0s 5ms/step - loss: 0.2977 - mae: 0.4515\n",
            "Epoch 132/200\n",
            "4/4 [==============================] - 0s 3ms/step - loss: 0.2933 - mae: 0.4466\n",
            "Epoch 133/200\n",
            "4/4 [==============================] - 0s 2ms/step - loss: 0.2954 - mae: 0.4448\n",
            "Epoch 134/200\n",
            "4/4 [==============================] - 0s 3ms/step - loss: 0.2950 - mae: 0.4463\n",
            "Epoch 135/200\n",
            "4/4 [==============================] - 0s 3ms/step - loss: 0.2945 - mae: 0.4455\n",
            "Epoch 136/200\n",
            "4/4 [==============================] - 0s 3ms/step - loss: 0.2889 - mae: 0.4441\n",
            "Epoch 137/200\n",
            "4/4 [==============================] - 0s 2ms/step - loss: 0.2925 - mae: 0.4483\n",
            "Epoch 138/200\n",
            "4/4 [==============================] - 0s 3ms/step - loss: 0.2938 - mae: 0.4455\n",
            "Epoch 139/200\n",
            "4/4 [==============================] - 0s 3ms/step - loss: 0.2936 - mae: 0.4409\n",
            "Epoch 140/200\n",
            "4/4 [==============================] - 0s 3ms/step - loss: 0.2928 - mae: 0.4401\n",
            "Epoch 141/200\n",
            "4/4 [==============================] - 0s 3ms/step - loss: 0.2915 - mae: 0.4429\n",
            "Epoch 142/200\n",
            "4/4 [==============================] - 0s 3ms/step - loss: 0.2911 - mae: 0.4460\n",
            "Epoch 143/200\n",
            "4/4 [==============================] - 0s 3ms/step - loss: 0.2876 - mae: 0.4420\n",
            "Epoch 144/200\n",
            "4/4 [==============================] - 0s 7ms/step - loss: 0.2977 - mae: 0.4446\n",
            "Epoch 145/200\n",
            "4/4 [==============================] - 0s 2ms/step - loss: 0.2981 - mae: 0.4484\n",
            "Epoch 146/200\n",
            "4/4 [==============================] - 0s 2ms/step - loss: 0.2907 - mae: 0.4456\n",
            "Epoch 147/200\n",
            "4/4 [==============================] - 0s 3ms/step - loss: 0.2903 - mae: 0.4427\n",
            "Epoch 148/200\n",
            "4/4 [==============================] - 0s 2ms/step - loss: 0.2908 - mae: 0.4420\n",
            "Epoch 149/200\n",
            "4/4 [==============================] - 0s 2ms/step - loss: 0.2884 - mae: 0.4449\n",
            "Epoch 150/200\n",
            "4/4 [==============================] - 0s 3ms/step - loss: 0.3078 - mae: 0.4548\n",
            "Epoch 151/200\n",
            "4/4 [==============================] - 0s 2ms/step - loss: 0.3031 - mae: 0.4522\n",
            "Epoch 152/200\n",
            "4/4 [==============================] - 0s 2ms/step - loss: 0.2942 - mae: 0.4442\n",
            "Epoch 153/200\n",
            "4/4 [==============================] - 0s 2ms/step - loss: 0.3021 - mae: 0.4494\n",
            "Epoch 154/200\n",
            "4/4 [==============================] - 0s 3ms/step - loss: 0.3081 - mae: 0.4527\n",
            "Epoch 155/200\n",
            "4/4 [==============================] - 0s 3ms/step - loss: 0.2913 - mae: 0.4420\n",
            "Epoch 156/200\n",
            "4/4 [==============================] - 0s 2ms/step - loss: 0.2912 - mae: 0.4460\n",
            "Epoch 157/200\n",
            "4/4 [==============================] - 0s 2ms/step - loss: 0.2933 - mae: 0.4465\n",
            "Epoch 158/200\n",
            "4/4 [==============================] - 0s 2ms/step - loss: 0.2937 - mae: 0.4466\n",
            "Epoch 159/200\n",
            "4/4 [==============================] - 0s 3ms/step - loss: 0.2904 - mae: 0.4463\n",
            "Epoch 160/200\n",
            "4/4 [==============================] - 0s 2ms/step - loss: 0.2912 - mae: 0.4409\n",
            "Epoch 161/200\n",
            "4/4 [==============================] - 0s 3ms/step - loss: 0.2963 - mae: 0.4444\n",
            "Epoch 162/200\n",
            "4/4 [==============================] - 0s 3ms/step - loss: 0.2929 - mae: 0.4413\n",
            "Epoch 163/200\n",
            "4/4 [==============================] - 0s 3ms/step - loss: 0.2998 - mae: 0.4457\n",
            "Epoch 164/200\n",
            "4/4 [==============================] - 0s 2ms/step - loss: 0.2897 - mae: 0.4421\n",
            "Epoch 165/200\n",
            "4/4 [==============================] - 0s 3ms/step - loss: 0.2889 - mae: 0.4430\n",
            "Epoch 166/200\n",
            "4/4 [==============================] - 0s 2ms/step - loss: 0.2995 - mae: 0.4444\n",
            "Epoch 167/200\n",
            "4/4 [==============================] - 0s 3ms/step - loss: 0.3024 - mae: 0.4476\n",
            "Epoch 168/200\n",
            "4/4 [==============================] - 0s 3ms/step - loss: 0.2910 - mae: 0.4459\n",
            "Epoch 169/200\n",
            "4/4 [==============================] - 0s 2ms/step - loss: 0.2914 - mae: 0.4495\n",
            "Epoch 170/200\n",
            "4/4 [==============================] - 0s 2ms/step - loss: 0.2920 - mae: 0.4452\n",
            "Epoch 171/200\n",
            "4/4 [==============================] - 0s 2ms/step - loss: 0.3021 - mae: 0.4467\n",
            "Epoch 172/200\n",
            "4/4 [==============================] - 0s 3ms/step - loss: 0.3013 - mae: 0.4472\n",
            "Epoch 173/200\n",
            "4/4 [==============================] - 0s 3ms/step - loss: 0.2916 - mae: 0.4420\n",
            "Epoch 174/200\n",
            "4/4 [==============================] - 0s 2ms/step - loss: 0.2919 - mae: 0.4532\n",
            "Epoch 175/200\n",
            "4/4 [==============================] - 0s 3ms/step - loss: 0.3030 - mae: 0.4594\n",
            "Epoch 176/200\n",
            "4/4 [==============================] - 0s 2ms/step - loss: 0.3002 - mae: 0.4546\n",
            "Epoch 177/200\n",
            "4/4 [==============================] - 0s 2ms/step - loss: 0.3037 - mae: 0.4480\n",
            "Epoch 178/200\n",
            "4/4 [==============================] - 0s 2ms/step - loss: 0.3019 - mae: 0.4450\n",
            "Epoch 179/200\n",
            "4/4 [==============================] - 0s 2ms/step - loss: 0.2937 - mae: 0.4421\n",
            "Epoch 180/200\n",
            "4/4 [==============================] - 0s 4ms/step - loss: 0.2929 - mae: 0.4461\n",
            "Epoch 181/200\n",
            "4/4 [==============================] - 0s 2ms/step - loss: 0.2884 - mae: 0.4404\n",
            "Epoch 182/200\n",
            "4/4 [==============================] - 0s 3ms/step - loss: 0.2971 - mae: 0.4419\n",
            "Epoch 183/200\n",
            "4/4 [==============================] - 0s 3ms/step - loss: 0.3006 - mae: 0.4459\n",
            "Epoch 184/200\n",
            "4/4 [==============================] - 0s 3ms/step - loss: 0.2881 - mae: 0.4421\n",
            "Epoch 185/200\n",
            "4/4 [==============================] - 0s 3ms/step - loss: 0.2889 - mae: 0.4445\n",
            "Epoch 186/200\n",
            "4/4 [==============================] - 0s 3ms/step - loss: 0.2918 - mae: 0.4454\n",
            "Epoch 187/200\n",
            "4/4 [==============================] - 0s 3ms/step - loss: 0.2930 - mae: 0.4452\n",
            "Epoch 188/200\n",
            "4/4 [==============================] - 0s 2ms/step - loss: 0.2936 - mae: 0.4449\n",
            "Epoch 189/200\n",
            "4/4 [==============================] - 0s 2ms/step - loss: 0.2907 - mae: 0.4448\n",
            "Epoch 190/200\n",
            "4/4 [==============================] - 0s 3ms/step - loss: 0.2977 - mae: 0.4468\n",
            "Epoch 191/200\n",
            "4/4 [==============================] - 0s 3ms/step - loss: 0.2957 - mae: 0.4494\n",
            "Epoch 192/200\n",
            "4/4 [==============================] - 0s 3ms/step - loss: 0.3178 - mae: 0.4684\n",
            "Epoch 193/200\n",
            "4/4 [==============================] - 0s 2ms/step - loss: 0.3014 - mae: 0.4553\n",
            "Epoch 194/200\n",
            "4/4 [==============================] - 0s 3ms/step - loss: 0.3011 - mae: 0.4445\n",
            "Epoch 195/200\n",
            "4/4 [==============================] - 0s 3ms/step - loss: 0.2996 - mae: 0.4422\n",
            "Epoch 196/200\n",
            "4/4 [==============================] - 0s 2ms/step - loss: 0.2872 - mae: 0.4452\n",
            "Epoch 197/200\n",
            "4/4 [==============================] - 0s 2ms/step - loss: 0.3012 - mae: 0.4573\n",
            "Epoch 198/200\n",
            "4/4 [==============================] - 0s 2ms/step - loss: 0.3006 - mae: 0.4554\n",
            "Epoch 199/200\n",
            "4/4 [==============================] - 0s 2ms/step - loss: 0.2939 - mae: 0.4435\n",
            "Epoch 200/200\n",
            "4/4 [==============================] - 0s 2ms/step - loss: 0.2888 - mae: 0.4408\n"
          ]
        }
      ]
    },
    {
      "cell_type": "code",
      "source": [
        "plt.plot(r.history['loss'], label='loss')\n",
        "plt.legend()"
      ],
      "metadata": {
        "colab": {
          "base_uri": "https://localhost:8080/",
          "height": 447
        },
        "id": "3yRN5ZCDl72p",
        "outputId": "478aaebd-7ee5-4067-8cea-bb401845391e"
      },
      "execution_count": 15,
      "outputs": [
        {
          "output_type": "execute_result",
          "data": {
            "text/plain": [
              "<matplotlib.legend.Legend at 0x7e7e5946fe20>"
            ]
          },
          "metadata": {},
          "execution_count": 15
        },
        {
          "output_type": "display_data",
          "data": {
            "text/plain": [
              "<Figure size 640x480 with 1 Axes>"
            ],
            "image/png": "[encoded data removed]"
          },
          "metadata": {}
        }
      ]
    },
    {
      "cell_type": "code",
      "source": [
        "plt.plot(r.history['mae'], label='loss')\n",
        "plt.legend()"
      ],
      "metadata": {
        "colab": {
          "base_uri": "https://localhost:8080/",
          "height": 447
        },
        "id": "bXpm4xpFq0lX",
        "outputId": "391cbf42-6680-4092-b769-6df2553f3c9a"
      },
      "execution_count": 16,
      "outputs": [
        {
          "output_type": "execute_result",
          "data": {
            "text/plain": [
              "<matplotlib.legend.Legend at 0x7e7e5946c7f0>"
            ]
          },
          "metadata": {},
          "execution_count": 16
        },
        {
          "output_type": "display_data",
          "data": {
            "text/plain": [
              "<Figure size 640x480 with 1 Axes>"
            ],
            "image/png": "[encoded data removed]"
          },
          "metadata": {}
        }
      ]
    },
    {
      "cell_type": "code",
      "source": [
        "#make predictions\n",
        "Xtest = np.linspace(-3,3,20).reshape(-1,1)\n",
        "ptest= model.predict(Xtest)"
      ],
      "metadata": {
        "colab": {
          "base_uri": "https://localhost:8080/"
        },
        "id": "ZoesOUODq3WI",
        "outputId": "be383a2c-71df-4267-a0da-78bb16168a42"
      },
      "execution_count": 19,
      "outputs": [
        {
          "output_type": "stream",
          "name": "stdout",
          "text": [
            "1/1 [==============================] - 0s 31ms/step\n"
          ]
        }
      ]
    },
    {
      "cell_type": "code",
      "source": [
        "plt.scatter(X,y)\n",
        "plt.plot(Xtest,ptest)"
      ],
      "metadata": {
        "colab": {
          "base_uri": "https://localhost:8080/",
          "height": 447
        },
        "id": "f1vokdCurnOZ",
        "outputId": "d0f3a0c2-335b-451a-bd89-cbf5eb3f2c21"
      },
      "execution_count": 22,
      "outputs": [
        {
          "output_type": "execute_result",
          "data": {
            "text/plain": [
              "[<matplotlib.lines.Line2D at 0x7e7e5bc96bc0>]"
            ]
          },
          "metadata": {},
          "execution_count": 22
        },
        {
          "output_type": "display_data",
          "data": {
            "text/plain": [
              "<Figure size 640x480 with 1 Axes>"
            ],
            "image/png": "[encoded data removed]"
          },
          "metadata": {}
        }
      ]
    },
    {
      "cell_type": "code",
      "source": [
        "model.layers"
      ],
      "metadata": {
        "colab": {
          "base_uri": "https://localhost:8080/"
        },
        "id": "4ez_ZXDEs_nB",
        "outputId": "48393a81-ecc8-41bd-b827-2229da203e2c"
      },
      "execution_count": 23,
      "outputs": [
        {
          "output_type": "execute_result",
          "data": {
            "text/plain": [
              "[<keras.src.engine.input_layer.InputLayer at 0x7e7e6d4df130>,\n",
              " <keras.src.layers.core.dense.Dense at 0x7e7e6d4dc640>]"
            ]
          },
          "metadata": {},
          "execution_count": 23
        }
      ]
    },
    {
      "cell_type": "code",
      "source": [
        "#to get params at dense layer--layer 1---her m,b--in reg\n",
        "model.layers[1].get_weights()"
      ],
      "metadata": {
        "colab": {
          "base_uri": "https://localhost:8080/"
        },
        "id": "jgzVMuNUtJLW",
        "outputId": "75998b66-8fea-4939-bb00-6381e5dce66e"
      },
      "execution_count": 24,
      "outputs": [
        {
          "output_type": "execute_result",
          "data": {
            "text/plain": [
              "[array([[0.5330066]], dtype=float32), array([-1.0065833], dtype=float32)]"
            ]
          },
          "metadata": {},
          "execution_count": 24
        }
      ]
    },
    {
      "cell_type": "code",
      "source": [],
      "metadata": {
        "id": "exjUWk2ytN19"
      },
      "execution_count": null,
      "outputs": []
    }
  ]
}